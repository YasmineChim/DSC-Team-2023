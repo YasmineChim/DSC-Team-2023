{
 "cells": [
  {
   "cell_type": "code",
   "execution_count": 67,
   "metadata": {},
   "outputs": [
    {
     "name": "stderr",
     "output_type": "stream",
     "text": [
      "[nltk_data] Downloading package wordnet to\n",
      "[nltk_data]     C:\\Users\\yasmi\\AppData\\Roaming\\nltk_data...\n",
      "[nltk_data]   Package wordnet is already up-to-date!\n"
     ]
    }
   ],
   "source": [
    "import numpy as np\n",
    "import pandas as pd\n",
    "import textblob\n",
    "\n",
    "import seaborn\n",
    "from matplotlib import pyplot\n",
    "\n",
    "import string\n",
    "from textblob import TextBlob, Word\n",
    "import re\n",
    "import nltk\n",
    "nltk.download('wordnet')\n",
    "\n",
    "from sklearn.feature_extraction.text import CountVectorizer, TfidfVectorizer\n",
    "from sklearn.preprocessing import normalize\n",
    "from sklearn import datasets, ensemble\n",
    "from sklearn.metrics import mean_squared_error\n",
    "from sklearn import metrics\n",
    "from sklearn.linear_model import LinearRegression, LogisticRegression\n",
    "from sklearn.model_selection import train_test_split, KFold, cross_val_score\n",
    "from sklearn.metrics import f1_score\n",
    "from sklearn.compose import make_column_transformer\n",
    "from sklearn.pipeline import Pipeline\n",
    "from sklearn.tree import DecisionTreeClassifier\n",
    "from sklearn.model_selection import GridSearchCV\n",
    "from sklearn.decomposition import PCA\n",
    "from sklearn.svm import SVC\n",
    "\n",
    "from sklearn.cluster import KMeans\n",
    "from sklearn.naive_bayes import MultinomialNB\n",
    "from sklearn.linear_model import LogisticRegression\n",
    "from sklearn.model_selection import train_test_split"
   ]
  },
  {
   "attachments": {},
   "cell_type": "markdown",
   "metadata": {},
   "source": [
    "**DATA CLEANING**"
   ]
  },
  {
   "cell_type": "code",
   "execution_count": 68,
   "metadata": {},
   "outputs": [
    {
     "data": {
      "text/html": [
       "<div>\n",
       "<style scoped>\n",
       "    .dataframe tbody tr th:only-of-type {\n",
       "        vertical-align: middle;\n",
       "    }\n",
       "\n",
       "    .dataframe tbody tr th {\n",
       "        vertical-align: top;\n",
       "    }\n",
       "\n",
       "    .dataframe thead th {\n",
       "        text-align: right;\n",
       "    }\n",
       "</style>\n",
       "<table border=\"1\" class=\"dataframe\">\n",
       "  <thead>\n",
       "    <tr style=\"text-align: right;\">\n",
       "      <th></th>\n",
       "      <th>id</th>\n",
       "      <th>keyword</th>\n",
       "      <th>location</th>\n",
       "      <th>text</th>\n",
       "      <th>target</th>\n",
       "    </tr>\n",
       "  </thead>\n",
       "  <tbody>\n",
       "    <tr>\n",
       "      <th>0</th>\n",
       "      <td>1</td>\n",
       "      <td>NaN</td>\n",
       "      <td>NaN</td>\n",
       "      <td>Our Deeds are the Reason of this #earthquake M...</td>\n",
       "      <td>1</td>\n",
       "    </tr>\n",
       "    <tr>\n",
       "      <th>1</th>\n",
       "      <td>4</td>\n",
       "      <td>NaN</td>\n",
       "      <td>NaN</td>\n",
       "      <td>Forest fire near La Ronge Sask. Canada</td>\n",
       "      <td>1</td>\n",
       "    </tr>\n",
       "    <tr>\n",
       "      <th>2</th>\n",
       "      <td>5</td>\n",
       "      <td>NaN</td>\n",
       "      <td>NaN</td>\n",
       "      <td>All residents asked to 'shelter in place' are ...</td>\n",
       "      <td>1</td>\n",
       "    </tr>\n",
       "    <tr>\n",
       "      <th>3</th>\n",
       "      <td>6</td>\n",
       "      <td>NaN</td>\n",
       "      <td>NaN</td>\n",
       "      <td>13,000 people receive #wildfires evacuation or...</td>\n",
       "      <td>1</td>\n",
       "    </tr>\n",
       "    <tr>\n",
       "      <th>4</th>\n",
       "      <td>7</td>\n",
       "      <td>NaN</td>\n",
       "      <td>NaN</td>\n",
       "      <td>Just got sent this photo from Ruby #Alaska as ...</td>\n",
       "      <td>1</td>\n",
       "    </tr>\n",
       "  </tbody>\n",
       "</table>\n",
       "</div>"
      ],
      "text/plain": [
       "   id keyword location                                               text  \\\n",
       "0   1     NaN      NaN  Our Deeds are the Reason of this #earthquake M...   \n",
       "1   4     NaN      NaN             Forest fire near La Ronge Sask. Canada   \n",
       "2   5     NaN      NaN  All residents asked to 'shelter in place' are ...   \n",
       "3   6     NaN      NaN  13,000 people receive #wildfires evacuation or...   \n",
       "4   7     NaN      NaN  Just got sent this photo from Ruby #Alaska as ...   \n",
       "\n",
       "   target  \n",
       "0       1  \n",
       "1       1  \n",
       "2       1  \n",
       "3       1  \n",
       "4       1  "
      ]
     },
     "execution_count": 68,
     "metadata": {},
     "output_type": "execute_result"
    }
   ],
   "source": [
    "nlp_df= pd.read_csv(\"train.csv\")\n",
    "nlp_df.head()"
   ]
  },
  {
   "cell_type": "code",
   "execution_count": 69,
   "metadata": {},
   "outputs": [
    {
     "data": {
      "text/html": [
       "<div>\n",
       "<style scoped>\n",
       "    .dataframe tbody tr th:only-of-type {\n",
       "        vertical-align: middle;\n",
       "    }\n",
       "\n",
       "    .dataframe tbody tr th {\n",
       "        vertical-align: top;\n",
       "    }\n",
       "\n",
       "    .dataframe thead th {\n",
       "        text-align: right;\n",
       "    }\n",
       "</style>\n",
       "<table border=\"1\" class=\"dataframe\">\n",
       "  <thead>\n",
       "    <tr style=\"text-align: right;\">\n",
       "      <th></th>\n",
       "      <th>id</th>\n",
       "      <th>keyword</th>\n",
       "      <th>location</th>\n",
       "      <th>text</th>\n",
       "      <th>target</th>\n",
       "    </tr>\n",
       "  </thead>\n",
       "  <tbody>\n",
       "    <tr>\n",
       "      <th>15</th>\n",
       "      <td>23</td>\n",
       "      <td>NaN</td>\n",
       "      <td>NaN</td>\n",
       "      <td>What's up man?</td>\n",
       "      <td>0</td>\n",
       "    </tr>\n",
       "    <tr>\n",
       "      <th>16</th>\n",
       "      <td>24</td>\n",
       "      <td>NaN</td>\n",
       "      <td>NaN</td>\n",
       "      <td>I love fruits</td>\n",
       "      <td>0</td>\n",
       "    </tr>\n",
       "    <tr>\n",
       "      <th>17</th>\n",
       "      <td>25</td>\n",
       "      <td>NaN</td>\n",
       "      <td>NaN</td>\n",
       "      <td>Summer is lovely</td>\n",
       "      <td>0</td>\n",
       "    </tr>\n",
       "    <tr>\n",
       "      <th>18</th>\n",
       "      <td>26</td>\n",
       "      <td>NaN</td>\n",
       "      <td>NaN</td>\n",
       "      <td>My car is so fast</td>\n",
       "      <td>0</td>\n",
       "    </tr>\n",
       "    <tr>\n",
       "      <th>19</th>\n",
       "      <td>28</td>\n",
       "      <td>NaN</td>\n",
       "      <td>NaN</td>\n",
       "      <td>What a goooooooaaaaaal!!!!!!</td>\n",
       "      <td>0</td>\n",
       "    </tr>\n",
       "    <tr>\n",
       "      <th>...</th>\n",
       "      <td>...</td>\n",
       "      <td>...</td>\n",
       "      <td>...</td>\n",
       "      <td>...</td>\n",
       "      <td>...</td>\n",
       "    </tr>\n",
       "    <tr>\n",
       "      <th>7581</th>\n",
       "      <td>10833</td>\n",
       "      <td>wrecked</td>\n",
       "      <td>Lincoln</td>\n",
       "      <td>@engineshed Great atmosphere at the British Li...</td>\n",
       "      <td>0</td>\n",
       "    </tr>\n",
       "    <tr>\n",
       "      <th>7582</th>\n",
       "      <td>10834</td>\n",
       "      <td>wrecked</td>\n",
       "      <td>NaN</td>\n",
       "      <td>Cramer: Iger's 3 words that wrecked Disney's s...</td>\n",
       "      <td>0</td>\n",
       "    </tr>\n",
       "    <tr>\n",
       "      <th>7584</th>\n",
       "      <td>10837</td>\n",
       "      <td>NaN</td>\n",
       "      <td>NaN</td>\n",
       "      <td>These boxes are ready to explode! Exploding Ki...</td>\n",
       "      <td>0</td>\n",
       "    </tr>\n",
       "    <tr>\n",
       "      <th>7587</th>\n",
       "      <td>10841</td>\n",
       "      <td>NaN</td>\n",
       "      <td>NaN</td>\n",
       "      <td>Sirens everywhere!</td>\n",
       "      <td>0</td>\n",
       "    </tr>\n",
       "    <tr>\n",
       "      <th>7593</th>\n",
       "      <td>10848</td>\n",
       "      <td>NaN</td>\n",
       "      <td>NaN</td>\n",
       "      <td>I just heard a really loud bang and everyone i...</td>\n",
       "      <td>0</td>\n",
       "    </tr>\n",
       "  </tbody>\n",
       "</table>\n",
       "<p>4342 rows × 5 columns</p>\n",
       "</div>"
      ],
      "text/plain": [
       "         id  keyword location  \\\n",
       "15       23      NaN      NaN   \n",
       "16       24      NaN      NaN   \n",
       "17       25      NaN      NaN   \n",
       "18       26      NaN      NaN   \n",
       "19       28      NaN      NaN   \n",
       "...     ...      ...      ...   \n",
       "7581  10833  wrecked  Lincoln   \n",
       "7582  10834  wrecked      NaN   \n",
       "7584  10837      NaN      NaN   \n",
       "7587  10841      NaN      NaN   \n",
       "7593  10848      NaN      NaN   \n",
       "\n",
       "                                                   text  target  \n",
       "15                                       What's up man?       0  \n",
       "16                                        I love fruits       0  \n",
       "17                                     Summer is lovely       0  \n",
       "18                                    My car is so fast       0  \n",
       "19                         What a goooooooaaaaaal!!!!!!       0  \n",
       "...                                                 ...     ...  \n",
       "7581  @engineshed Great atmosphere at the British Li...       0  \n",
       "7582  Cramer: Iger's 3 words that wrecked Disney's s...       0  \n",
       "7584  These boxes are ready to explode! Exploding Ki...       0  \n",
       "7587                                 Sirens everywhere!       0  \n",
       "7593  I just heard a really loud bang and everyone i...       0  \n",
       "\n",
       "[4342 rows x 5 columns]"
      ]
     },
     "execution_count": 69,
     "metadata": {},
     "output_type": "execute_result"
    }
   ],
   "source": [
    "nlp_df[nlp_df['target']== 0]"
   ]
  },
  {
   "cell_type": "code",
   "execution_count": 70,
   "metadata": {},
   "outputs": [
    {
     "name": "stdout",
     "output_type": "stream",
     "text": [
      "4342\n",
      "3271\n"
     ]
    }
   ],
   "source": [
    "#checkdisastertonotdisasterratio\n",
    "not_disaster_count= nlp_df['target'].value_counts()[0]\n",
    "disaster_count= nlp_df['target'].value_counts()[1]\n",
    "print (not_disaster_count)\n",
    "print (disaster_count)"
   ]
  },
  {
   "cell_type": "code",
   "execution_count": 71,
   "metadata": {},
   "outputs": [
    {
     "data": {
      "text/plain": [
       "(7613, 5)"
      ]
     },
     "execution_count": 71,
     "metadata": {},
     "output_type": "execute_result"
    }
   ],
   "source": [
    "#check shape\n",
    "nlp_df.shape"
   ]
  },
  {
   "cell_type": "code",
   "execution_count": 72,
   "metadata": {},
   "outputs": [
    {
     "name": "stdout",
     "output_type": "stream",
     "text": [
      "2533\n",
      "61\n"
     ]
    }
   ],
   "source": [
    "#checknans\n",
    "locnull= nlp_df['location'].isnull().values.sum()\n",
    "keywordnull= nlp_df['keyword'].isnull().values.sum()\n",
    "print (locnull)\n",
    "print (keywordnull)"
   ]
  },
  {
   "cell_type": "code",
   "execution_count": 73,
   "metadata": {},
   "outputs": [],
   "source": [
    "nlp_df= nlp_df.drop(columns= 'location')\n",
    "nlp_df = nlp_df[nlp_df['keyword'].notna()]"
   ]
  },
  {
   "cell_type": "code",
   "execution_count": 74,
   "metadata": {},
   "outputs": [],
   "source": [
    "#make lowercase\n",
    "nlp_df['text']= nlp_df['text'].apply(str.lower)"
   ]
  },
  {
   "cell_type": "code",
   "execution_count": 75,
   "metadata": {},
   "outputs": [],
   "source": [
    "#function to remove punctuation\n",
    "def remove_punctuations(text):\n",
    "    for punctuation in string.punctuation:\n",
    "        text = text.replace(punctuation, '')\n",
    "    return text"
   ]
  },
  {
   "cell_type": "code",
   "execution_count": 76,
   "metadata": {},
   "outputs": [],
   "source": [
    "#remove punctuation for easier parsing\n",
    "nlp_df['text']= nlp_df['text'].apply(remove_punctuations)"
   ]
  },
  {
   "cell_type": "code",
   "execution_count": 77,
   "metadata": {},
   "outputs": [],
   "source": [
    "#helper function to remove url\n",
    "def remove_url (text):\n",
    "    text = re.sub(r'^https?:\\/\\/.*[\\r\\n]*', '', text, flags=re.MULTILINE)\n",
    "    return (text)\n"
   ]
  },
  {
   "cell_type": "code",
   "execution_count": 78,
   "metadata": {},
   "outputs": [],
   "source": [
    "#remove urls for better tokenization\n",
    "nlp_df['text']= nlp_df['text'].apply(remove_url)"
   ]
  },
  {
   "cell_type": "code",
   "execution_count": 79,
   "metadata": {},
   "outputs": [],
   "source": [
    "#helper function to lemmatize\n",
    "def lem(text):\n",
    "    \n",
    "    list_empty=[]\n",
    "    \n",
    "    for i in text.split():\n",
    "        w = Word(i)\n",
    "        \n",
    "        list_empty.append(w.lemmatize())\n",
    "    #convert list to string\n",
    "    string = \" \".join(list_empty)\n",
    "    \n",
    "    return string"
   ]
  },
  {
   "cell_type": "code",
   "execution_count": 80,
   "metadata": {},
   "outputs": [
    {
     "data": {
      "text/html": [
       "<div>\n",
       "<style scoped>\n",
       "    .dataframe tbody tr th:only-of-type {\n",
       "        vertical-align: middle;\n",
       "    }\n",
       "\n",
       "    .dataframe tbody tr th {\n",
       "        vertical-align: top;\n",
       "    }\n",
       "\n",
       "    .dataframe thead th {\n",
       "        text-align: right;\n",
       "    }\n",
       "</style>\n",
       "<table border=\"1\" class=\"dataframe\">\n",
       "  <thead>\n",
       "    <tr style=\"text-align: right;\">\n",
       "      <th></th>\n",
       "      <th>id</th>\n",
       "      <th>keyword</th>\n",
       "      <th>text</th>\n",
       "      <th>target</th>\n",
       "    </tr>\n",
       "  </thead>\n",
       "  <tbody>\n",
       "    <tr>\n",
       "      <th>31</th>\n",
       "      <td>48</td>\n",
       "      <td>ablaze</td>\n",
       "      <td>bbcmtd wholesale market ablaze httptcolhyxeohy6c</td>\n",
       "      <td>1</td>\n",
       "    </tr>\n",
       "    <tr>\n",
       "      <th>32</th>\n",
       "      <td>49</td>\n",
       "      <td>ablaze</td>\n",
       "      <td>we always try to bring the heavy metal rt http...</td>\n",
       "      <td>0</td>\n",
       "    </tr>\n",
       "    <tr>\n",
       "      <th>33</th>\n",
       "      <td>50</td>\n",
       "      <td>ablaze</td>\n",
       "      <td>africanbaze breaking newsnigeria flag set abla...</td>\n",
       "      <td>1</td>\n",
       "    </tr>\n",
       "    <tr>\n",
       "      <th>34</th>\n",
       "      <td>52</td>\n",
       "      <td>ablaze</td>\n",
       "      <td>cry out for more set me ablaze</td>\n",
       "      <td>0</td>\n",
       "    </tr>\n",
       "    <tr>\n",
       "      <th>35</th>\n",
       "      <td>53</td>\n",
       "      <td>ablaze</td>\n",
       "      <td>on plus side look at the sky last night it wa ...</td>\n",
       "      <td>0</td>\n",
       "    </tr>\n",
       "    <tr>\n",
       "      <th>...</th>\n",
       "      <td>...</td>\n",
       "      <td>...</td>\n",
       "      <td>...</td>\n",
       "      <td>...</td>\n",
       "    </tr>\n",
       "    <tr>\n",
       "      <th>7578</th>\n",
       "      <td>10830</td>\n",
       "      <td>wrecked</td>\n",
       "      <td>jtruff23 cameronhacker and i wrecked you both</td>\n",
       "      <td>0</td>\n",
       "    </tr>\n",
       "    <tr>\n",
       "      <th>7579</th>\n",
       "      <td>10831</td>\n",
       "      <td>wrecked</td>\n",
       "      <td>three day off from work and theyve pretty much...</td>\n",
       "      <td>0</td>\n",
       "    </tr>\n",
       "    <tr>\n",
       "      <th>7580</th>\n",
       "      <td>10832</td>\n",
       "      <td>wrecked</td>\n",
       "      <td>fx forex trading cramer igers 3 word that wrec...</td>\n",
       "      <td>0</td>\n",
       "    </tr>\n",
       "    <tr>\n",
       "      <th>7581</th>\n",
       "      <td>10833</td>\n",
       "      <td>wrecked</td>\n",
       "      <td>engineshed great atmosphere at the british lio...</td>\n",
       "      <td>0</td>\n",
       "    </tr>\n",
       "    <tr>\n",
       "      <th>7582</th>\n",
       "      <td>10834</td>\n",
       "      <td>wrecked</td>\n",
       "      <td>cramer igers 3 word that wrecked disney stock ...</td>\n",
       "      <td>0</td>\n",
       "    </tr>\n",
       "  </tbody>\n",
       "</table>\n",
       "<p>7552 rows × 4 columns</p>\n",
       "</div>"
      ],
      "text/plain": [
       "         id  keyword                                               text  \\\n",
       "31       48   ablaze   bbcmtd wholesale market ablaze httptcolhyxeohy6c   \n",
       "32       49   ablaze  we always try to bring the heavy metal rt http...   \n",
       "33       50   ablaze  africanbaze breaking newsnigeria flag set abla...   \n",
       "34       52   ablaze                     cry out for more set me ablaze   \n",
       "35       53   ablaze  on plus side look at the sky last night it wa ...   \n",
       "...     ...      ...                                                ...   \n",
       "7578  10830  wrecked      jtruff23 cameronhacker and i wrecked you both   \n",
       "7579  10831  wrecked  three day off from work and theyve pretty much...   \n",
       "7580  10832  wrecked  fx forex trading cramer igers 3 word that wrec...   \n",
       "7581  10833  wrecked  engineshed great atmosphere at the british lio...   \n",
       "7582  10834  wrecked  cramer igers 3 word that wrecked disney stock ...   \n",
       "\n",
       "      target  \n",
       "31         1  \n",
       "32         0  \n",
       "33         1  \n",
       "34         0  \n",
       "35         0  \n",
       "...      ...  \n",
       "7578       0  \n",
       "7579       0  \n",
       "7580       0  \n",
       "7581       0  \n",
       "7582       0  \n",
       "\n",
       "[7552 rows x 4 columns]"
      ]
     },
     "execution_count": 80,
     "metadata": {},
     "output_type": "execute_result"
    }
   ],
   "source": [
    "#apply lemmatization\n",
    "nlp_df['text']= nlp_df['text'].apply(lem)\n",
    "nlp_df"
   ]
  },
  {
   "attachments": {},
   "cell_type": "markdown",
   "metadata": {},
   "source": [
    "**Weighting and rudimentary analysis:**"
   ]
  },
  {
   "cell_type": "code",
   "execution_count": 81,
   "metadata": {},
   "outputs": [],
   "source": [
    "count_vectorizer = CountVectorizer()\n",
    "word_counts= count_vectorizer.fit_transform(nlp_df[\"text\"])"
   ]
  },
  {
   "cell_type": "code",
   "execution_count": 82,
   "metadata": {},
   "outputs": [
    {
     "data": {
      "text/plain": [
       "[array(['bbcmtd', 'wholesale', 'market', 'ablaze', 'httptcolhyxeohy6c'],\n",
       "       dtype='<U52')]"
      ]
     },
     "execution_count": 82,
     "metadata": {},
     "output_type": "execute_result"
    }
   ],
   "source": [
    "count_vectorizer.inverse_transform(word_counts[0])"
   ]
  },
  {
   "cell_type": "code",
   "execution_count": 83,
   "metadata": {},
   "outputs": [
    {
     "name": "stdout",
     "output_type": "stream",
     "text": [
      "(7552, 21058)\n",
      "101048\n"
     ]
    }
   ],
   "source": [
    "print(np.shape(word_counts))\n",
    "print(word_counts.nnz)"
   ]
  },
  {
   "cell_type": "code",
   "execution_count": 84,
   "metadata": {},
   "outputs": [
    {
     "name": "stdout",
     "output_type": "stream",
     "text": [
      "(21058,)\n",
      "words that occur less than five times:  18375\n"
     ]
    }
   ],
   "source": [
    "total_tokens = word_counts.sum()\n",
    "word_totals = word_counts.sum(axis=0)\n",
    "word_totals = np.ravel(word_totals)\n",
    "print(word_totals.shape)\n",
    "vocabulary = count_vectorizer.get_feature_names_out()\n",
    "print(\"words that occur less than five times: \", len(vocabulary[np.where(word_totals < 5)]))"
   ]
  },
  {
   "cell_type": "code",
   "execution_count": 85,
   "metadata": {},
   "outputs": [
    {
     "name": "stdout",
     "output_type": "stream",
     "text": [
      "total count:  10374\n",
      "[(3250, 'the'), (1958, 'in'), (1938, 'to'), (1816, 'of'), (1412, 'and')]\n"
     ]
    },
    {
     "data": {
      "image/png": "[encoded data removed]",
      "text/plain": [
       "<Figure size 640x480 with 1 Axes>"
      ]
     },
     "metadata": {},
     "output_type": "display_data"
    },
    {
     "data": {
      "text/plain": [
       "<AxesSubplot:>"
      ]
     },
     "execution_count": 85,
     "metadata": {},
     "output_type": "execute_result"
    },
    {
     "data": {
      "image/png": "[encoded data removed]",
      "text/plain": [
       "<Figure size 640x480 with 1 Axes>"
      ]
     },
     "metadata": {},
     "output_type": "display_data"
    }
   ],
   "source": [
    "most_frequent_words = vocabulary[np.where(word_totals > 1000)]\n",
    "most_frequent_word_counts = word_totals[np.where(word_totals > 1000)]\n",
    "\n",
    "print(\"total count: \", most_frequent_word_counts.sum())\n",
    "print(sorted(zip(most_frequent_word_counts, most_frequent_words), reverse=True))\n",
    "\n",
    "seaborn.lineplot(x=range(len(most_frequent_words), 0, -1),\n",
    "                 y=np.sort(most_frequent_word_counts))\n",
    "pyplot.show()\n",
    "pyplot.xscale('log')\n",
    "pyplot.yscale('log')\n",
    "seaborn.lineplot(x=range(len(most_frequent_words), 0, -1),\n",
    "                 y=np.sort(most_frequent_word_counts))"
   ]
  },
  {
   "cell_type": "code",
   "execution_count": 86,
   "metadata": {},
   "outputs": [],
   "source": [
    "tfidf_vectorizer= TfidfVectorizer(min_df= 20)\n",
    "nlp_tfidf= tfidf_vectorizer.fit_transform(nlp_df[\"text\"]).toarray()\n",
    "tfidf_vocab_nlp= tfidf_vectorizer.get_feature_names_out()"
   ]
  },
  {
   "cell_type": "code",
   "execution_count": 87,
   "metadata": {},
   "outputs": [],
   "source": [
    "#Combined keyword and text column\n",
    "X = nlp_df\n",
    "tfidf_vectorizer_other= TfidfVectorizer()\n",
    "nlp_tfidf_other= make_column_transformer((tfidf_vectorizer, 'text'), (tfidf_vectorizer, 'keyword'))\n",
    "nlp_tfidf_other= nlp_tfidf_other.fit_transform(X)"
   ]
  },
  {
   "attachments": {},
   "cell_type": "markdown",
   "metadata": {},
   "source": [
    "**Machine Learning**"
   ]
  },
  {
   "cell_type": "code",
   "execution_count": 88,
   "metadata": {},
   "outputs": [
    {
     "name": "stdout",
     "output_type": "stream",
     "text": [
      "0.794973544973545\n",
      "0.8062095350206003\n"
     ]
    }
   ],
   "source": [
    "#notencoded MNB\n",
    "reviews_train, reviews_test, ratings_train, ratings_test = train_test_split (nlp_tfidf, nlp_df['target'], test_size=0.1, random_state= 0)\n",
    "nb_classifier= MultinomialNB().fit(reviews_train, ratings_train)\n",
    "print (nb_classifier.score(reviews_test, ratings_test))\n",
    "print (nb_classifier.score(reviews_train, ratings_train))\n"
   ]
  },
  {
   "cell_type": "code",
   "execution_count": 99,
   "metadata": {},
   "outputs": [
    {
     "name": "stdout",
     "output_type": "stream",
     "text": [
      "0.7777777777777778\n",
      "0.8041494997057093\n"
     ]
    }
   ],
   "source": [
    "#encoded MNB\n",
    "reviews_train, reviews_test, ratings_train, ratings_test = train_test_split (nlp_tfidf_other, nlp_df['target'], test_size=0.1, random_state= 0)\n",
    "nb_classifier= MultinomialNB().fit(reviews_train, ratings_train)\n",
    "print (nb_classifier.score(reviews_test, ratings_test))\n",
    "print (nb_classifier.score(reviews_train, ratings_train))"
   ]
  },
  {
   "cell_type": "code",
   "execution_count": 89,
   "metadata": {},
   "outputs": [
    {
     "name": "stdout",
     "output_type": "stream",
     "text": [
      "[(-2.18, 'japan'), (1.31, 'obliterate')]\n",
      "[(-2.18, 'japan'), (1.31, 'obliterate'), (1.32, 'screaming')]\n",
      "[(-2.18, 'japan'), (1.31, 'obliterate'), (1.32, 'screaming'), (1.33, 'desolation')]\n",
      "[(-2.18, 'japan'), (1.31, 'obliterate'), (1.32, 'screaming'), (1.33, 'desolation'), (1.35, 'screamed')]\n",
      "[(-2.18, 'japan'), (1.31, 'obliterate'), (1.32, 'screaming'), (1.33, 'desolation'), (1.35, 'screamed'), (1.36, 'stretcher')]\n",
      "[(-2.18, 'japan'), (1.31, 'obliterate'), (1.32, 'screaming'), (1.33, 'desolation'), (1.35, 'screamed'), (1.36, 'stretcher'), (1.36, 'inundated')]\n",
      "[(-2.18, 'japan'), (1.31, 'obliterate'), (1.32, 'screaming'), (1.33, 'desolation'), (1.35, 'screamed'), (1.36, 'stretcher'), (1.36, 'inundated'), (1.36, 'im')]\n",
      "[(-2.18, 'japan'), (1.31, 'obliterate'), (1.32, 'screaming'), (1.33, 'desolation'), (1.35, 'screamed'), (1.36, 'stretcher'), (1.36, 'inundated'), (1.36, 'im'), (1.38, 'bloody')]\n",
      "[(-2.18, 'japan'), (1.31, 'obliterate'), (1.32, 'screaming'), (1.33, 'desolation'), (1.35, 'screamed'), (1.36, 'stretcher'), (1.36, 'inundated'), (1.36, 'im'), (1.38, 'bloody'), (1.41, 'ball')]\n",
      "[(-2.18, 'japan'), (1.31, 'obliterate'), (1.32, 'screaming'), (1.33, 'desolation'), (1.35, 'screamed'), (1.36, 'stretcher'), (1.36, 'inundated'), (1.36, 'im'), (1.38, 'bloody'), (1.41, 'ball'), (1.41, 'job')]\n",
      "[(-2.18, 'japan'), (1.31, 'obliterate'), (1.32, 'screaming'), (1.33, 'desolation'), (1.35, 'screamed'), (1.36, 'stretcher'), (1.36, 'inundated'), (1.36, 'im'), (1.38, 'bloody'), (1.41, 'ball'), (1.41, 'job'), (1.41, 'shoulder')]\n",
      "[(-2.18, 'japan'), (1.31, 'obliterate'), (1.32, 'screaming'), (1.33, 'desolation'), (1.35, 'screamed'), (1.36, 'stretcher'), (1.36, 'inundated'), (1.36, 'im'), (1.38, 'bloody'), (1.41, 'ball'), (1.41, 'job'), (1.41, 'shoulder'), (1.43, 'curfew')]\n",
      "[(-2.18, 'japan'), (1.31, 'obliterate'), (1.32, 'screaming'), (1.33, 'desolation'), (1.35, 'screamed'), (1.36, 'stretcher'), (1.36, 'inundated'), (1.36, 'im'), (1.38, 'bloody'), (1.41, 'ball'), (1.41, 'job'), (1.41, 'shoulder'), (1.43, 'curfew'), (1.43, 'happy')]\n",
      "[(-2.18, 'japan'), (1.31, 'obliterate'), (1.32, 'screaming'), (1.33, 'desolation'), (1.35, 'screamed'), (1.36, 'stretcher'), (1.36, 'inundated'), (1.36, 'im'), (1.38, 'bloody'), (1.41, 'ball'), (1.41, 'job'), (1.41, 'shoulder'), (1.43, 'curfew'), (1.43, 'happy'), (1.43, 'you')]\n",
      "[(-2.18, 'japan'), (1.31, 'obliterate'), (1.32, 'screaming'), (1.33, 'desolation'), (1.35, 'screamed'), (1.36, 'stretcher'), (1.36, 'inundated'), (1.36, 'im'), (1.38, 'bloody'), (1.41, 'ball'), (1.41, 'job'), (1.41, 'shoulder'), (1.43, 'curfew'), (1.43, 'happy'), (1.43, 'you'), (1.44, 'armageddon')]\n",
      "[(-2.18, 'japan'), (1.31, 'obliterate'), (1.32, 'screaming'), (1.33, 'desolation'), (1.35, 'screamed'), (1.36, 'stretcher'), (1.36, 'inundated'), (1.36, 'im'), (1.38, 'bloody'), (1.41, 'ball'), (1.41, 'job'), (1.41, 'shoulder'), (1.43, 'curfew'), (1.43, 'happy'), (1.43, 'you'), (1.44, 'armageddon'), (1.45, 'blight')]\n",
      "[(-2.18, 'japan'), (1.31, 'obliterate'), (1.32, 'screaming'), (1.33, 'desolation'), (1.35, 'screamed'), (1.36, 'stretcher'), (1.36, 'inundated'), (1.36, 'im'), (1.38, 'bloody'), (1.41, 'ball'), (1.41, 'job'), (1.41, 'shoulder'), (1.43, 'curfew'), (1.43, 'happy'), (1.43, 'you'), (1.44, 'armageddon'), (1.45, 'blight'), (1.45, 'scream')]\n",
      "[(-2.18, 'japan'), (1.31, 'obliterate'), (1.32, 'screaming'), (1.33, 'desolation'), (1.35, 'screamed'), (1.36, 'stretcher'), (1.36, 'inundated'), (1.36, 'im'), (1.38, 'bloody'), (1.41, 'ball'), (1.41, 'job'), (1.41, 'shoulder'), (1.43, 'curfew'), (1.43, 'happy'), (1.43, 'you'), (1.44, 'armageddon'), (1.45, 'blight'), (1.45, 'scream'), (1.45, 'music')]\n",
      "[(-2.18, 'japan'), (1.31, 'obliterate'), (1.32, 'screaming'), (1.33, 'desolation'), (1.35, 'screamed'), (1.36, 'stretcher'), (1.36, 'inundated'), (1.36, 'im'), (1.38, 'bloody'), (1.41, 'ball'), (1.41, 'job'), (1.41, 'shoulder'), (1.43, 'curfew'), (1.43, 'happy'), (1.43, 'you'), (1.44, 'armageddon'), (1.45, 'blight'), (1.45, 'scream'), (1.45, 'music'), (1.47, 'crush')]\n",
      "[(-2.18, 'japan'), (1.31, 'obliterate'), (1.32, 'screaming'), (1.33, 'desolation'), (1.35, 'screamed'), (1.36, 'stretcher'), (1.36, 'inundated'), (1.36, 'im'), (1.38, 'bloody'), (1.41, 'ball'), (1.41, 'job'), (1.41, 'shoulder'), (1.43, 'curfew'), (1.43, 'happy'), (1.43, 'you'), (1.44, 'armageddon'), (1.45, 'blight'), (1.45, 'scream'), (1.45, 'music'), (1.47, 'crush'), (1.47, 'better')]\n",
      "[(-2.18, 'japan'), (1.31, 'obliterate'), (1.32, 'screaming'), (1.33, 'desolation'), (1.35, 'screamed'), (1.36, 'stretcher'), (1.36, 'inundated'), (1.36, 'im'), (1.38, 'bloody'), (1.41, 'ball'), (1.41, 'job'), (1.41, 'shoulder'), (1.43, 'curfew'), (1.43, 'happy'), (1.43, 'you'), (1.44, 'armageddon'), (1.45, 'blight'), (1.45, 'scream'), (1.45, 'music'), (1.47, 'crush'), (1.47, 'better'), (1.47, 'lol')]\n",
      "[(-2.18, 'japan'), (1.31, 'obliterate'), (1.32, 'screaming'), (1.33, 'desolation'), (1.35, 'screamed'), (1.36, 'stretcher'), (1.36, 'inundated'), (1.36, 'im'), (1.38, 'bloody'), (1.41, 'ball'), (1.41, 'job'), (1.41, 'shoulder'), (1.43, 'curfew'), (1.43, 'happy'), (1.43, 'you'), (1.44, 'armageddon'), (1.45, 'blight'), (1.45, 'scream'), (1.45, 'music'), (1.47, 'crush'), (1.47, 'better'), (1.47, 'lol'), (1.48, 'nowplaying')]\n",
      "[(-2.18, 'japan'), (1.31, 'obliterate'), (1.32, 'screaming'), (1.33, 'desolation'), (1.35, 'screamed'), (1.36, 'stretcher'), (1.36, 'inundated'), (1.36, 'im'), (1.38, 'bloody'), (1.41, 'ball'), (1.41, 'job'), (1.41, 'shoulder'), (1.43, 'curfew'), (1.43, 'happy'), (1.43, 'you'), (1.44, 'armageddon'), (1.45, 'blight'), (1.45, 'scream'), (1.45, 'music'), (1.47, 'crush'), (1.47, 'better'), (1.47, 'lol'), (1.48, 'nowplaying'), (1.48, 'harm')]\n",
      "[(-2.18, 'japan'), (1.31, 'obliterate'), (1.32, 'screaming'), (1.33, 'desolation'), (1.35, 'screamed'), (1.36, 'stretcher'), (1.36, 'inundated'), (1.36, 'im'), (1.38, 'bloody'), (1.41, 'ball'), (1.41, 'job'), (1.41, 'shoulder'), (1.43, 'curfew'), (1.43, 'happy'), (1.43, 'you'), (1.44, 'armageddon'), (1.45, 'blight'), (1.45, 'scream'), (1.45, 'music'), (1.47, 'crush'), (1.47, 'better'), (1.47, 'lol'), (1.48, 'nowplaying'), (1.48, 'harm'), (1.48, 'soon')]\n",
      "[(-2.18, 'japan'), (1.31, 'obliterate'), (1.32, 'screaming'), (1.33, 'desolation'), (1.35, 'screamed'), (1.36, 'stretcher'), (1.36, 'inundated'), (1.36, 'im'), (1.38, 'bloody'), (1.41, 'ball'), (1.41, 'job'), (1.41, 'shoulder'), (1.43, 'curfew'), (1.43, 'happy'), (1.43, 'you'), (1.44, 'armageddon'), (1.45, 'blight'), (1.45, 'scream'), (1.45, 'music'), (1.47, 'crush'), (1.47, 'better'), (1.47, 'lol'), (1.48, 'nowplaying'), (1.48, 'harm'), (1.48, 'soon'), (1.51, 'finally')]\n",
      "[(-2.18, 'japan'), (1.31, 'obliterate'), (1.32, 'screaming'), (1.33, 'desolation'), (1.35, 'screamed'), (1.36, 'stretcher'), (1.36, 'inundated'), (1.36, 'im'), (1.38, 'bloody'), (1.41, 'ball'), (1.41, 'job'), (1.41, 'shoulder'), (1.43, 'curfew'), (1.43, 'happy'), (1.43, 'you'), (1.44, 'armageddon'), (1.45, 'blight'), (1.45, 'scream'), (1.45, 'music'), (1.47, 'crush'), (1.47, 'better'), (1.47, 'lol'), (1.48, 'nowplaying'), (1.48, 'harm'), (1.48, 'soon'), (1.51, 'finally'), (1.51, 'play')]\n",
      "[(-2.18, 'japan'), (1.31, 'obliterate'), (1.32, 'screaming'), (1.33, 'desolation'), (1.35, 'screamed'), (1.36, 'stretcher'), (1.36, 'inundated'), (1.36, 'im'), (1.38, 'bloody'), (1.41, 'ball'), (1.41, 'job'), (1.41, 'shoulder'), (1.43, 'curfew'), (1.43, 'happy'), (1.43, 'you'), (1.44, 'armageddon'), (1.45, 'blight'), (1.45, 'scream'), (1.45, 'music'), (1.47, 'crush'), (1.47, 'better'), (1.47, 'lol'), (1.48, 'nowplaying'), (1.48, 'harm'), (1.48, 'soon'), (1.51, 'finally'), (1.51, 'play'), (1.55, 'cross')]\n",
      "[(-2.18, 'japan'), (1.31, 'obliterate'), (1.32, 'screaming'), (1.33, 'desolation'), (1.35, 'screamed'), (1.36, 'stretcher'), (1.36, 'inundated'), (1.36, 'im'), (1.38, 'bloody'), (1.41, 'ball'), (1.41, 'job'), (1.41, 'shoulder'), (1.43, 'curfew'), (1.43, 'happy'), (1.43, 'you'), (1.44, 'armageddon'), (1.45, 'blight'), (1.45, 'scream'), (1.45, 'music'), (1.47, 'crush'), (1.47, 'better'), (1.47, 'lol'), (1.48, 'nowplaying'), (1.48, 'harm'), (1.48, 'soon'), (1.51, 'finally'), (1.51, 'play'), (1.55, 'cross'), (1.56, 'full')]\n",
      "[(-2.18, 'japan'), (1.31, 'obliterate'), (1.32, 'screaming'), (1.33, 'desolation'), (1.35, 'screamed'), (1.36, 'stretcher'), (1.36, 'inundated'), (1.36, 'im'), (1.38, 'bloody'), (1.41, 'ball'), (1.41, 'job'), (1.41, 'shoulder'), (1.43, 'curfew'), (1.43, 'happy'), (1.43, 'you'), (1.44, 'armageddon'), (1.45, 'blight'), (1.45, 'scream'), (1.45, 'music'), (1.47, 'crush'), (1.47, 'better'), (1.47, 'lol'), (1.48, 'nowplaying'), (1.48, 'harm'), (1.48, 'soon'), (1.51, 'finally'), (1.51, 'play'), (1.55, 'cross'), (1.56, 'full'), (1.57, 'crushed')]\n",
      "[(-2.18, 'japan'), (1.31, 'obliterate'), (1.32, 'screaming'), (1.33, 'desolation'), (1.35, 'screamed'), (1.36, 'stretcher'), (1.36, 'inundated'), (1.36, 'im'), (1.38, 'bloody'), (1.41, 'ball'), (1.41, 'job'), (1.41, 'shoulder'), (1.43, 'curfew'), (1.43, 'happy'), (1.43, 'you'), (1.44, 'armageddon'), (1.45, 'blight'), (1.45, 'scream'), (1.45, 'music'), (1.47, 'crush'), (1.47, 'better'), (1.47, 'lol'), (1.48, 'nowplaying'), (1.48, 'harm'), (1.48, 'soon'), (1.51, 'finally'), (1.51, 'play'), (1.55, 'cross'), (1.56, 'full'), (1.57, 'crushed'), (1.58, 'long')]\n",
      "[(-2.18, 'japan'), (1.31, 'obliterate'), (1.32, 'screaming'), (1.33, 'desolation'), (1.35, 'screamed'), (1.36, 'stretcher'), (1.36, 'inundated'), (1.36, 'im'), (1.38, 'bloody'), (1.41, 'ball'), (1.41, 'job'), (1.41, 'shoulder'), (1.43, 'curfew'), (1.43, 'happy'), (1.43, 'you'), (1.44, 'armageddon'), (1.45, 'blight'), (1.45, 'scream'), (1.45, 'music'), (1.47, 'crush'), (1.47, 'better'), (1.47, 'lol'), (1.48, 'nowplaying'), (1.48, 'harm'), (1.48, 'soon'), (1.51, 'finally'), (1.51, 'play'), (1.55, 'cross'), (1.56, 'full'), (1.57, 'crushed'), (1.58, 'long'), (1.59, 'mayhem')]\n",
      "[(-2.18, 'japan'), (1.31, 'obliterate'), (1.32, 'screaming'), (1.33, 'desolation'), (1.35, 'screamed'), (1.36, 'stretcher'), (1.36, 'inundated'), (1.36, 'im'), (1.38, 'bloody'), (1.41, 'ball'), (1.41, 'job'), (1.41, 'shoulder'), (1.43, 'curfew'), (1.43, 'happy'), (1.43, 'you'), (1.44, 'armageddon'), (1.45, 'blight'), (1.45, 'scream'), (1.45, 'music'), (1.47, 'crush'), (1.47, 'better'), (1.47, 'lol'), (1.48, 'nowplaying'), (1.48, 'harm'), (1.48, 'soon'), (1.51, 'finally'), (1.51, 'play'), (1.55, 'cross'), (1.56, 'full'), (1.57, 'crushed'), (1.58, 'long'), (1.59, 'mayhem'), (1.66, 'leather')]\n",
      "[(-2.18, 'japan'), (1.31, 'obliterate'), (1.32, 'screaming'), (1.33, 'desolation'), (1.35, 'screamed'), (1.36, 'stretcher'), (1.36, 'inundated'), (1.36, 'im'), (1.38, 'bloody'), (1.41, 'ball'), (1.41, 'job'), (1.41, 'shoulder'), (1.43, 'curfew'), (1.43, 'happy'), (1.43, 'you'), (1.44, 'armageddon'), (1.45, 'blight'), (1.45, 'scream'), (1.45, 'music'), (1.47, 'crush'), (1.47, 'better'), (1.47, 'lol'), (1.48, 'nowplaying'), (1.48, 'harm'), (1.48, 'soon'), (1.51, 'finally'), (1.51, 'play'), (1.55, 'cross'), (1.56, 'full'), (1.57, 'crushed'), (1.58, 'long'), (1.59, 'mayhem'), (1.66, 'leather'), (1.67, 'shes')]\n",
      "[(-2.18, 'japan'), (1.31, 'obliterate'), (1.32, 'screaming'), (1.33, 'desolation'), (1.35, 'screamed'), (1.36, 'stretcher'), (1.36, 'inundated'), (1.36, 'im'), (1.38, 'bloody'), (1.41, 'ball'), (1.41, 'job'), (1.41, 'shoulder'), (1.43, 'curfew'), (1.43, 'happy'), (1.43, 'you'), (1.44, 'armageddon'), (1.45, 'blight'), (1.45, 'scream'), (1.45, 'music'), (1.47, 'crush'), (1.47, 'better'), (1.47, 'lol'), (1.48, 'nowplaying'), (1.48, 'harm'), (1.48, 'soon'), (1.51, 'finally'), (1.51, 'play'), (1.55, 'cross'), (1.56, 'full'), (1.57, 'crushed'), (1.58, 'long'), (1.59, 'mayhem'), (1.66, 'leather'), (1.67, 'shes'), (1.69, 'panicking')]\n",
      "[(-2.18, 'japan'), (1.31, 'obliterate'), (1.32, 'screaming'), (1.33, 'desolation'), (1.35, 'screamed'), (1.36, 'stretcher'), (1.36, 'inundated'), (1.36, 'im'), (1.38, 'bloody'), (1.41, 'ball'), (1.41, 'job'), (1.41, 'shoulder'), (1.43, 'curfew'), (1.43, 'happy'), (1.43, 'you'), (1.44, 'armageddon'), (1.45, 'blight'), (1.45, 'scream'), (1.45, 'music'), (1.47, 'crush'), (1.47, 'better'), (1.47, 'lol'), (1.48, 'nowplaying'), (1.48, 'harm'), (1.48, 'soon'), (1.51, 'finally'), (1.51, 'play'), (1.55, 'cross'), (1.56, 'full'), (1.57, 'crushed'), (1.58, 'long'), (1.59, 'mayhem'), (1.66, 'leather'), (1.67, 'shes'), (1.69, 'panicking'), (1.7, 'handbag')]\n",
      "[(-2.18, 'japan'), (1.31, 'obliterate'), (1.32, 'screaming'), (1.33, 'desolation'), (1.35, 'screamed'), (1.36, 'stretcher'), (1.36, 'inundated'), (1.36, 'im'), (1.38, 'bloody'), (1.41, 'ball'), (1.41, 'job'), (1.41, 'shoulder'), (1.43, 'curfew'), (1.43, 'happy'), (1.43, 'you'), (1.44, 'armageddon'), (1.45, 'blight'), (1.45, 'scream'), (1.45, 'music'), (1.47, 'crush'), (1.47, 'better'), (1.47, 'lol'), (1.48, 'nowplaying'), (1.48, 'harm'), (1.48, 'soon'), (1.51, 'finally'), (1.51, 'play'), (1.55, 'cross'), (1.56, 'full'), (1.57, 'crushed'), (1.58, 'long'), (1.59, 'mayhem'), (1.66, 'leather'), (1.67, 'shes'), (1.69, 'panicking'), (1.7, 'handbag'), (1.7, 'explode')]\n",
      "[(-2.18, 'japan'), (1.31, 'obliterate'), (1.32, 'screaming'), (1.33, 'desolation'), (1.35, 'screamed'), (1.36, 'stretcher'), (1.36, 'inundated'), (1.36, 'im'), (1.38, 'bloody'), (1.41, 'ball'), (1.41, 'job'), (1.41, 'shoulder'), (1.43, 'curfew'), (1.43, 'happy'), (1.43, 'you'), (1.44, 'armageddon'), (1.45, 'blight'), (1.45, 'scream'), (1.45, 'music'), (1.47, 'crush'), (1.47, 'better'), (1.47, 'lol'), (1.48, 'nowplaying'), (1.48, 'harm'), (1.48, 'soon'), (1.51, 'finally'), (1.51, 'play'), (1.55, 'cross'), (1.56, 'full'), (1.57, 'crushed'), (1.58, 'long'), (1.59, 'mayhem'), (1.66, 'leather'), (1.67, 'shes'), (1.69, 'panicking'), (1.7, 'handbag'), (1.7, 'explode'), (1.71, 'cake')]\n",
      "[(-2.18, 'japan'), (1.31, 'obliterate'), (1.32, 'screaming'), (1.33, 'desolation'), (1.35, 'screamed'), (1.36, 'stretcher'), (1.36, 'inundated'), (1.36, 'im'), (1.38, 'bloody'), (1.41, 'ball'), (1.41, 'job'), (1.41, 'shoulder'), (1.43, 'curfew'), (1.43, 'happy'), (1.43, 'you'), (1.44, 'armageddon'), (1.45, 'blight'), (1.45, 'scream'), (1.45, 'music'), (1.47, 'crush'), (1.47, 'better'), (1.47, 'lol'), (1.48, 'nowplaying'), (1.48, 'harm'), (1.48, 'soon'), (1.51, 'finally'), (1.51, 'play'), (1.55, 'cross'), (1.56, 'full'), (1.57, 'crushed'), (1.58, 'long'), (1.59, 'mayhem'), (1.66, 'leather'), (1.67, 'shes'), (1.69, 'panicking'), (1.7, 'handbag'), (1.7, 'explode'), (1.71, 'cake'), (1.71, 'traumatised')]\n",
      "[(-2.18, 'japan'), (1.31, 'obliterate'), (1.32, 'screaming'), (1.33, 'desolation'), (1.35, 'screamed'), (1.36, 'stretcher'), (1.36, 'inundated'), (1.36, 'im'), (1.38, 'bloody'), (1.41, 'ball'), (1.41, 'job'), (1.41, 'shoulder'), (1.43, 'curfew'), (1.43, 'happy'), (1.43, 'you'), (1.44, 'armageddon'), (1.45, 'blight'), (1.45, 'scream'), (1.45, 'music'), (1.47, 'crush'), (1.47, 'better'), (1.47, 'lol'), (1.48, 'nowplaying'), (1.48, 'harm'), (1.48, 'soon'), (1.51, 'finally'), (1.51, 'play'), (1.55, 'cross'), (1.56, 'full'), (1.57, 'crushed'), (1.58, 'long'), (1.59, 'mayhem'), (1.66, 'leather'), (1.67, 'shes'), (1.69, 'panicking'), (1.7, 'handbag'), (1.7, 'explode'), (1.71, 'cake'), (1.71, 'traumatised'), (1.72, 'wrecked')]\n",
      "[(-2.18, 'japan'), (1.31, 'obliterate'), (1.32, 'screaming'), (1.33, 'desolation'), (1.35, 'screamed'), (1.36, 'stretcher'), (1.36, 'inundated'), (1.36, 'im'), (1.38, 'bloody'), (1.41, 'ball'), (1.41, 'job'), (1.41, 'shoulder'), (1.43, 'curfew'), (1.43, 'happy'), (1.43, 'you'), (1.44, 'armageddon'), (1.45, 'blight'), (1.45, 'scream'), (1.45, 'music'), (1.47, 'crush'), (1.47, 'better'), (1.47, 'lol'), (1.48, 'nowplaying'), (1.48, 'harm'), (1.48, 'soon'), (1.51, 'finally'), (1.51, 'play'), (1.55, 'cross'), (1.56, 'full'), (1.57, 'crushed'), (1.58, 'long'), (1.59, 'mayhem'), (1.66, 'leather'), (1.67, 'shes'), (1.69, 'panicking'), (1.7, 'handbag'), (1.7, 'explode'), (1.71, 'cake'), (1.71, 'traumatised'), (1.72, 'wrecked'), (1.73, 'myself')]\n",
      "[(-2.18, 'japan'), (1.31, 'obliterate'), (1.32, 'screaming'), (1.33, 'desolation'), (1.35, 'screamed'), (1.36, 'stretcher'), (1.36, 'inundated'), (1.36, 'im'), (1.38, 'bloody'), (1.41, 'ball'), (1.41, 'job'), (1.41, 'shoulder'), (1.43, 'curfew'), (1.43, 'happy'), (1.43, 'you'), (1.44, 'armageddon'), (1.45, 'blight'), (1.45, 'scream'), (1.45, 'music'), (1.47, 'crush'), (1.47, 'better'), (1.47, 'lol'), (1.48, 'nowplaying'), (1.48, 'harm'), (1.48, 'soon'), (1.51, 'finally'), (1.51, 'play'), (1.55, 'cross'), (1.56, 'full'), (1.57, 'crushed'), (1.58, 'long'), (1.59, 'mayhem'), (1.66, 'leather'), (1.67, 'shes'), (1.69, 'panicking'), (1.7, 'handbag'), (1.7, 'explode'), (1.71, 'cake'), (1.71, 'traumatised'), (1.72, 'wrecked'), (1.73, 'myself'), (1.74, 'let')]\n",
      "[(-2.18, 'japan'), (1.31, 'obliterate'), (1.32, 'screaming'), (1.33, 'desolation'), (1.35, 'screamed'), (1.36, 'stretcher'), (1.36, 'inundated'), (1.36, 'im'), (1.38, 'bloody'), (1.41, 'ball'), (1.41, 'job'), (1.41, 'shoulder'), (1.43, 'curfew'), (1.43, 'happy'), (1.43, 'you'), (1.44, 'armageddon'), (1.45, 'blight'), (1.45, 'scream'), (1.45, 'music'), (1.47, 'crush'), (1.47, 'better'), (1.47, 'lol'), (1.48, 'nowplaying'), (1.48, 'harm'), (1.48, 'soon'), (1.51, 'finally'), (1.51, 'play'), (1.55, 'cross'), (1.56, 'full'), (1.57, 'crushed'), (1.58, 'long'), (1.59, 'mayhem'), (1.66, 'leather'), (1.67, 'shes'), (1.69, 'panicking'), (1.7, 'handbag'), (1.7, 'explode'), (1.71, 'cake'), (1.71, 'traumatised'), (1.72, 'wrecked'), (1.73, 'myself'), (1.74, 'let'), (1.77, 'love')]\n",
      "[(-2.18, 'japan'), (1.31, 'obliterate'), (1.32, 'screaming'), (1.33, 'desolation'), (1.35, 'screamed'), (1.36, 'stretcher'), (1.36, 'inundated'), (1.36, 'im'), (1.38, 'bloody'), (1.41, 'ball'), (1.41, 'job'), (1.41, 'shoulder'), (1.43, 'curfew'), (1.43, 'happy'), (1.43, 'you'), (1.44, 'armageddon'), (1.45, 'blight'), (1.45, 'scream'), (1.45, 'music'), (1.47, 'crush'), (1.47, 'better'), (1.47, 'lol'), (1.48, 'nowplaying'), (1.48, 'harm'), (1.48, 'soon'), (1.51, 'finally'), (1.51, 'play'), (1.55, 'cross'), (1.56, 'full'), (1.57, 'crushed'), (1.58, 'long'), (1.59, 'mayhem'), (1.66, 'leather'), (1.67, 'shes'), (1.69, 'panicking'), (1.7, 'handbag'), (1.7, 'explode'), (1.71, 'cake'), (1.71, 'traumatised'), (1.72, 'wrecked'), (1.73, 'myself'), (1.74, 'let'), (1.77, 'love'), (1.82, 'blazing')]\n",
      "[(-2.18, 'japan'), (1.31, 'obliterate'), (1.32, 'screaming'), (1.33, 'desolation'), (1.35, 'screamed'), (1.36, 'stretcher'), (1.36, 'inundated'), (1.36, 'im'), (1.38, 'bloody'), (1.41, 'ball'), (1.41, 'job'), (1.41, 'shoulder'), (1.43, 'curfew'), (1.43, 'happy'), (1.43, 'you'), (1.44, 'armageddon'), (1.45, 'blight'), (1.45, 'scream'), (1.45, 'music'), (1.47, 'crush'), (1.47, 'better'), (1.47, 'lol'), (1.48, 'nowplaying'), (1.48, 'harm'), (1.48, 'soon'), (1.51, 'finally'), (1.51, 'play'), (1.55, 'cross'), (1.56, 'full'), (1.57, 'crushed'), (1.58, 'long'), (1.59, 'mayhem'), (1.66, 'leather'), (1.67, 'shes'), (1.69, 'panicking'), (1.7, 'handbag'), (1.7, 'explode'), (1.71, 'cake'), (1.71, 'traumatised'), (1.72, 'wrecked'), (1.73, 'myself'), (1.74, 'let'), (1.77, 'love'), (1.82, 'blazing'), (1.84, 'song')]\n",
      "[(-2.18, 'japan'), (1.31, 'obliterate'), (1.32, 'screaming'), (1.33, 'desolation'), (1.35, 'screamed'), (1.36, 'stretcher'), (1.36, 'inundated'), (1.36, 'im'), (1.38, 'bloody'), (1.41, 'ball'), (1.41, 'job'), (1.41, 'shoulder'), (1.43, 'curfew'), (1.43, 'happy'), (1.43, 'you'), (1.44, 'armageddon'), (1.45, 'blight'), (1.45, 'scream'), (1.45, 'music'), (1.47, 'crush'), (1.47, 'better'), (1.47, 'lol'), (1.48, 'nowplaying'), (1.48, 'harm'), (1.48, 'soon'), (1.51, 'finally'), (1.51, 'play'), (1.55, 'cross'), (1.56, 'full'), (1.57, 'crushed'), (1.58, 'long'), (1.59, 'mayhem'), (1.66, 'leather'), (1.67, 'shes'), (1.69, 'panicking'), (1.7, 'handbag'), (1.7, 'explode'), (1.71, 'cake'), (1.71, 'traumatised'), (1.72, 'wrecked'), (1.73, 'myself'), (1.74, 'let'), (1.77, 'love'), (1.82, 'blazing'), (1.84, 'song'), (1.98, 'electrocute')]\n",
      "[(-2.18, 'japan'), (1.31, 'obliterate'), (1.32, 'screaming'), (1.33, 'desolation'), (1.35, 'screamed'), (1.36, 'stretcher'), (1.36, 'inundated'), (1.36, 'im'), (1.38, 'bloody'), (1.41, 'ball'), (1.41, 'job'), (1.41, 'shoulder'), (1.43, 'curfew'), (1.43, 'happy'), (1.43, 'you'), (1.44, 'armageddon'), (1.45, 'blight'), (1.45, 'scream'), (1.45, 'music'), (1.47, 'crush'), (1.47, 'better'), (1.47, 'lol'), (1.48, 'nowplaying'), (1.48, 'harm'), (1.48, 'soon'), (1.51, 'finally'), (1.51, 'play'), (1.55, 'cross'), (1.56, 'full'), (1.57, 'crushed'), (1.58, 'long'), (1.59, 'mayhem'), (1.66, 'leather'), (1.67, 'shes'), (1.69, 'panicking'), (1.7, 'handbag'), (1.7, 'explode'), (1.71, 'cake'), (1.71, 'traumatised'), (1.72, 'wrecked'), (1.73, 'myself'), (1.74, 'let'), (1.77, 'love'), (1.82, 'blazing'), (1.84, 'song'), (1.98, 'electrocute'), (2.0, 'aftershock')]\n",
      "[(-2.18, 'japan'), (1.31, 'obliterate'), (1.32, 'screaming'), (1.33, 'desolation'), (1.35, 'screamed'), (1.36, 'stretcher'), (1.36, 'inundated'), (1.36, 'im'), (1.38, 'bloody'), (1.41, 'ball'), (1.41, 'job'), (1.41, 'shoulder'), (1.43, 'curfew'), (1.43, 'happy'), (1.43, 'you'), (1.44, 'armageddon'), (1.45, 'blight'), (1.45, 'scream'), (1.45, 'music'), (1.47, 'crush'), (1.47, 'better'), (1.47, 'lol'), (1.48, 'nowplaying'), (1.48, 'harm'), (1.48, 'soon'), (1.51, 'finally'), (1.51, 'play'), (1.55, 'cross'), (1.56, 'full'), (1.57, 'crushed'), (1.58, 'long'), (1.59, 'mayhem'), (1.66, 'leather'), (1.67, 'shes'), (1.69, 'panicking'), (1.7, 'handbag'), (1.7, 'explode'), (1.71, 'cake'), (1.71, 'traumatised'), (1.72, 'wrecked'), (1.73, 'myself'), (1.74, 'let'), (1.77, 'love'), (1.82, 'blazing'), (1.84, 'song'), (1.98, 'electrocute'), (2.0, 'aftershock'), (2.08, 'ebay')]\n",
      "[(-2.18, 'japan'), (1.31, 'obliterate'), (1.32, 'screaming'), (1.33, 'desolation'), (1.35, 'screamed'), (1.36, 'stretcher'), (1.36, 'inundated'), (1.36, 'im'), (1.38, 'bloody'), (1.41, 'ball'), (1.41, 'job'), (1.41, 'shoulder'), (1.43, 'curfew'), (1.43, 'happy'), (1.43, 'you'), (1.44, 'armageddon'), (1.45, 'blight'), (1.45, 'scream'), (1.45, 'music'), (1.47, 'crush'), (1.47, 'better'), (1.47, 'lol'), (1.48, 'nowplaying'), (1.48, 'harm'), (1.48, 'soon'), (1.51, 'finally'), (1.51, 'play'), (1.55, 'cross'), (1.56, 'full'), (1.57, 'crushed'), (1.58, 'long'), (1.59, 'mayhem'), (1.66, 'leather'), (1.67, 'shes'), (1.69, 'panicking'), (1.7, 'handbag'), (1.7, 'explode'), (1.71, 'cake'), (1.71, 'traumatised'), (1.72, 'wrecked'), (1.73, 'myself'), (1.74, 'let'), (1.77, 'love'), (1.82, 'blazing'), (1.84, 'song'), (1.98, 'electrocute'), (2.0, 'aftershock'), (2.08, 'ebay'), (2.08, 'blew')]\n",
      "[(-2.18, 'japan'), (1.31, 'obliterate'), (1.32, 'screaming'), (1.33, 'desolation'), (1.35, 'screamed'), (1.36, 'stretcher'), (1.36, 'inundated'), (1.36, 'im'), (1.38, 'bloody'), (1.41, 'ball'), (1.41, 'job'), (1.41, 'shoulder'), (1.43, 'curfew'), (1.43, 'happy'), (1.43, 'you'), (1.44, 'armageddon'), (1.45, 'blight'), (1.45, 'scream'), (1.45, 'music'), (1.47, 'crush'), (1.47, 'better'), (1.47, 'lol'), (1.48, 'nowplaying'), (1.48, 'harm'), (1.48, 'soon'), (1.51, 'finally'), (1.51, 'play'), (1.55, 'cross'), (1.56, 'full'), (1.57, 'crushed'), (1.58, 'long'), (1.59, 'mayhem'), (1.66, 'leather'), (1.67, 'shes'), (1.69, 'panicking'), (1.7, 'handbag'), (1.7, 'explode'), (1.71, 'cake'), (1.71, 'traumatised'), (1.72, 'wrecked'), (1.73, 'myself'), (1.74, 'let'), (1.77, 'love'), (1.82, 'blazing'), (1.84, 'song'), (1.98, 'electrocute'), (2.0, 'aftershock'), (2.08, 'ebay'), (2.08, 'blew'), (2.28, 'ruin')]\n",
      "[(-2.18, 'japan'), (1.31, 'obliterate'), (1.32, 'screaming'), (1.33, 'desolation'), (1.35, 'screamed'), (1.36, 'stretcher'), (1.36, 'inundated'), (1.36, 'im'), (1.38, 'bloody'), (1.41, 'ball'), (1.41, 'job'), (1.41, 'shoulder'), (1.43, 'curfew'), (1.43, 'happy'), (1.43, 'you'), (1.44, 'armageddon'), (1.45, 'blight'), (1.45, 'scream'), (1.45, 'music'), (1.47, 'crush'), (1.47, 'better'), (1.47, 'lol'), (1.48, 'nowplaying'), (1.48, 'harm'), (1.48, 'soon'), (1.51, 'finally'), (1.51, 'play'), (1.55, 'cross'), (1.56, 'full'), (1.57, 'crushed'), (1.58, 'long'), (1.59, 'mayhem'), (1.66, 'leather'), (1.67, 'shes'), (1.69, 'panicking'), (1.7, 'handbag'), (1.7, 'explode'), (1.71, 'cake'), (1.71, 'traumatised'), (1.72, 'wrecked'), (1.73, 'myself'), (1.74, 'let'), (1.77, 'love'), (1.82, 'blazing'), (1.84, 'song'), (1.98, 'electrocute'), (2.0, 'aftershock'), (2.08, 'ebay'), (2.08, 'blew'), (2.28, 'ruin'), (2.66, 'bag')]\n"
     ]
    }
   ],
   "source": [
    "pos_neg= nb_classifier.feature_log_prob_\n",
    "a= pos_neg[0]-pos_neg[1]\n",
    "tuple_list= zip(a, tfidf_vocab_nlp)\n",
    "tuple_list= sorted(tuple_list)\n",
    "for x in tuple_list[:50]:\n",
    "        k= []\n",
    "        k.append((round(x[0],2), x[1]))\n",
    "for x in tuple_list[-50:]:\n",
    "        k.append((round(x[0],2), x[1]))\n",
    "        print (k)"
   ]
  },
  {
   "cell_type": "code",
   "execution_count": 90,
   "metadata": {},
   "outputs": [
    {
     "name": "stdout",
     "output_type": "stream",
     "text": [
      "train predcition\n",
      "0.8435844614479105\n",
      "test prediction\n",
      "0.7764550264550265\n"
     ]
    }
   ],
   "source": [
    "nlp_train, nlp_test, target_train, target_test = train_test_split (nlp_df['text'], nlp_df['target'], test_size=0.1, random_state= 0)\n",
    "\n",
    "vectorizer = CountVectorizer(min_df=20)\n",
    "\n",
    "x_train = vectorizer.fit_transform(nlp_train)\n",
    "x_test = vectorizer.transform(nlp_test)\n",
    "\n",
    "# LOGISTIC REGRESSION, not encoded\n",
    "logreg = LogisticRegression()\n",
    "logreg.fit(x_train, target_train)\n",
    "lr_test_prediction = logreg.predict(x_test)\n",
    "lr_train_prediction= logreg.predict(x_train)\n",
    "print ('train predcition')\n",
    "print (np.mean(lr_train_prediction == target_train))\n",
    "print ('test prediction')\n",
    "print (np.mean(lr_test_prediction == target_test))"
   ]
  },
  {
   "cell_type": "code",
   "execution_count": 100,
   "metadata": {},
   "outputs": [
    {
     "name": "stdout",
     "output_type": "stream",
     "text": [
      "train predcition\n",
      "0.9686580341377281\n",
      "test prediction\n",
      "0.8042328042328042\n"
     ]
    },
    {
     "name": "stderr",
     "output_type": "stream",
     "text": [
      "c:\\Users\\yasmi\\Anaconda3\\envs\\info2950\\lib\\site-packages\\sklearn\\linear_model\\_logistic.py:444: ConvergenceWarning: lbfgs failed to converge (status=1):\n",
      "STOP: TOTAL NO. of ITERATIONS REACHED LIMIT.\n",
      "\n",
      "Increase the number of iterations (max_iter) or scale the data as shown in:\n",
      "    https://scikit-learn.org/stable/modules/preprocessing.html\n",
      "Please also refer to the documentation for alternative solver options:\n",
      "    https://scikit-learn.org/stable/modules/linear_model.html#logistic-regression\n",
      "  n_iter_i = _check_optimize_result(\n"
     ]
    }
   ],
   "source": [
    "#LogisticRegression encoded\n",
    "nlp_train, nlp_test, target_train, target_test = train_test_split (nlp_df['text'], nlp_df['target'], test_size=0.1, random_state= 0)\n",
    "vectorizer= CountVectorizer()\n",
    "X = nlp_df\n",
    "ct= make_column_transformer((vectorizer, 'text'), (vectorizer, 'keyword'))\n",
    "ct= ct.fit_transform(X)\n",
    "x_train = vectorizer.fit_transform(nlp_train)\n",
    "x_test = vectorizer.transform(nlp_test)\n",
    "\n",
    "logreg = LogisticRegression()\n",
    "logreg.fit(x_train, target_train)\n",
    "lr_test_prediction = logreg.predict(x_test)\n",
    "lr_train_prediction= logreg.predict(x_train)\n",
    "print ('train predcition')\n",
    "print (np.mean(lr_train_prediction == target_train))\n",
    "print ('test prediction')\n",
    "print (np.mean(lr_test_prediction == target_test))"
   ]
  },
  {
   "cell_type": "code",
   "execution_count": 101,
   "metadata": {},
   "outputs": [
    {
     "name": "stdout",
     "output_type": "stream",
     "text": [
      "train and test accuracy\n",
      "0.9686580341377281\n",
      "0.8042328042328042\n",
      "train and test precision\n",
      "0.9870223503965393\n",
      "0.8051470588235294\n",
      "train and test recall\n",
      "0.9392795883361921\n",
      "0.697452229299363\n",
      "train and test f1\n",
      "0.9625593250131834\n",
      "0.7474402730375426\n"
     ]
    }
   ],
   "source": [
    "print ('train and test accuracy')\n",
    "print (metrics.accuracy_score(target_train, lr_train_prediction))\n",
    "print (metrics.accuracy_score(target_test, lr_test_prediction))\n",
    "print ('train and test precision')\n",
    "print (metrics.precision_score(target_train, lr_train_prediction))\n",
    "print (metrics.precision_score(target_test, lr_test_prediction))\n",
    "print ('train and test recall')\n",
    "print (metrics.recall_score(target_train, lr_train_prediction))\n",
    "print (metrics.recall_score(target_test, lr_test_prediction))\n",
    "print ('train and test f1')\n",
    "print (metrics.f1_score(target_train, lr_train_prediction))\n",
    "print (metrics.f1_score(target_test, lr_test_prediction))"
   ]
  },
  {
   "attachments": {},
   "cell_type": "markdown",
   "metadata": {},
   "source": [
    "**Our Prediction Tweets**"
   ]
  },
  {
   "cell_type": "code",
   "execution_count": 92,
   "metadata": {},
   "outputs": [
    {
     "data": {
      "text/plain": [
       "array([0], dtype=int64)"
      ]
     },
     "execution_count": 92,
     "metadata": {},
     "output_type": "execute_result"
    }
   ],
   "source": [
    "first_tweet= ['the spurs got absolutely obliterated. It was fucking beautiful.']\n",
    "tfidf_vectorizer_first= tfidf_vectorizer.transform(first_tweet).toarray()\n",
    "nb_classifier.predict(tfidf_vectorizer_first)"
   ]
  },
  {
   "cell_type": "code",
   "execution_count": 93,
   "metadata": {},
   "outputs": [
    {
     "data": {
      "text/plain": [
       "array([1], dtype=int64)"
      ]
     },
     "execution_count": 93,
     "metadata": {},
     "output_type": "execute_result"
    }
   ],
   "source": [
    "second_tweet= ['The earthquake in Turkey was a tragedy.']\n",
    "tfidf_vectorizer_second= tfidf_vectorizer.transform(second_tweet).toarray()\n",
    "nb_classifier.predict(tfidf_vectorizer_second)"
   ]
  },
  {
   "cell_type": "code",
   "execution_count": 94,
   "metadata": {},
   "outputs": [
    {
     "data": {
      "text/plain": [
       "array([1], dtype=int64)"
      ]
     },
     "execution_count": 94,
     "metadata": {},
     "output_type": "execute_result"
    }
   ],
   "source": [
    "second_tweet= ['The earthquake in Turkey was a tragedy.']\n",
    "tfidf_vectorizer_second= vectorizer.transform(second_tweet).toarray()\n",
    "logreg.predict(tfidf_vectorizer_second)"
   ]
  },
  {
   "cell_type": "code",
   "execution_count": 95,
   "metadata": {},
   "outputs": [
    {
     "data": {
      "text/plain": [
       "array([0], dtype=int64)"
      ]
     },
     "execution_count": 95,
     "metadata": {},
     "output_type": "execute_result"
    }
   ],
   "source": [
    "third_tweet= [\"I'm used to being let down. i'm a knicks fan.\"]\n",
    "tfidf_vectorizer_third= tfidf_vectorizer.transform(third_tweet).toarray()\n",
    "nb_classifier.predict(tfidf_vectorizer_third)"
   ]
  },
  {
   "attachments": {},
   "cell_type": "markdown",
   "metadata": {},
   "source": [
    "**Looped through classifiers (TFID)**"
   ]
  },
  {
   "cell_type": "code",
   "execution_count": 102,
   "metadata": {},
   "outputs": [
    {
     "name": "stdout",
     "output_type": "stream",
     "text": [
      "tweet train score\n",
      "0.9821954090641554\n",
      "tweet test score\n",
      "0.6785714285714286\n",
      "tweet train score\n",
      "0.84240729841083\n",
      "tweet test score\n",
      "0.7896825396825397\n",
      "tweet train score\n",
      "0.8041494997057093\n",
      "tweet test score\n",
      "0.7777777777777778\n"
     ]
    }
   ],
   "source": [
    "classifiers= [DecisionTreeClassifier, LogisticRegression, MultinomialNB]\n",
    "\n",
    "reviews_train, reviews_test, ratings_train, ratings_test = train_test_split (nlp_tfidf_other, nlp_df['target'], test_size=0.1, random_state= 0)\n",
    "\n",
    "for clf in classifiers:\n",
    "    classified= clf().fit(reviews_train, ratings_train)\n",
    "    print ('tweet train score')\n",
    "    print (classified.score(reviews_train, ratings_train))\n",
    "    print ('tweet test score')\n",
    "    print (classified.score(reviews_test, ratings_test))"
   ]
  },
  {
   "attachments": {},
   "cell_type": "markdown",
   "metadata": {},
   "source": [
    "**Finetuning**"
   ]
  },
  {
   "cell_type": "code",
   "execution_count": 103,
   "metadata": {},
   "outputs": [
    {
     "name": "stdout",
     "output_type": "stream",
     "text": [
      "train predcition\n",
      "0.922160094173043\n",
      "test prediction\n",
      "0.8108465608465608\n"
     ]
    }
   ],
   "source": [
    "#For untransformed dataframe\n",
    "#Makes most sense to use encoded text column with CountVectorizer for LogisticRegression model\n",
    "logreg = LogisticRegression(penalty='elasticnet', dual=False, tol=0.01, \n",
    "                           C=1, fit_intercept=True, intercept_scaling=1.0, \n",
    "                           class_weight=None, random_state=None, solver='saga', l1_ratio=0)\n",
    "logreg.fit(x_train, target_train)\n",
    "lr_test_prediction = logreg.predict(x_test)\n",
    "lr_train_prediction= logreg.predict(x_train)\n",
    "print ('train predcition')\n",
    "print (np.mean(lr_train_prediction == target_train))\n",
    "print ('test prediction')\n",
    "print (np.mean(lr_test_prediction == target_test))"
   ]
  },
  {
   "cell_type": "code",
   "execution_count": 113,
   "metadata": {},
   "outputs": [
    {
     "name": "stdout",
     "output_type": "stream",
     "text": [
      "0.7883597883597884\n",
      "0.8085638610947616\n"
     ]
    },
    {
     "name": "stderr",
     "output_type": "stream",
     "text": [
      "c:\\Users\\yasmi\\Anaconda3\\envs\\info2950\\lib\\site-packages\\sklearn\\naive_bayes.py:591: UserWarning: alpha too small will result in numeric errors, setting alpha = 1.0e-10\n",
      "  warnings.warn(\n"
     ]
    }
   ],
   "source": [
    "#For untransformed dataframe\n",
    "#Makes most sense to use unencoded text column with TFIDVectorizer for MNB model\n",
    "nb_classify= MultinomialNB(alpha=0)\n",
    "reviews_train, reviews_test, ratings_train, ratings_test = train_test_split (nlp_tfidf, nlp_df['target'], test_size=0.1, random_state= 0)\n",
    "nb_classifier= nb_classify.fit(reviews_train, ratings_train)\n",
    "print (nb_classifier.score(reviews_test, ratings_test))\n",
    "print (nb_classifier.score(reviews_train, ratings_train))\n"
   ]
  }
 ],
 "metadata": {
  "kernelspec": {
   "display_name": "Python 3",
   "language": "python",
   "name": "python3"
  },
  "language_info": {
   "codemirror_mode": {
    "name": "ipython",
    "version": 3
   },
   "file_extension": ".py",
   "mimetype": "text/x-python",
   "name": "python",
   "nbconvert_exporter": "python",
   "pygments_lexer": "ipython3",
   "version": "3.9.13"
  },
  "orig_nbformat": 4
 },
 "nbformat": 4,
 "nbformat_minor": 2
}
